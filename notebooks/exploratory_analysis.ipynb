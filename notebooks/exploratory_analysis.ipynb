import pandas as pd
import matplotlib.pyplot as plt
import seaborn as sns

# Load stock data
file_path = "../data/stock_data.csv"
df = pd.read_csv(file_path, parse_dates=['Date'], index_col='Date')

# Display basic information about the dataset
print("First 5 rows of the dataset:")
print(df.head())

print("\nDataset Summary:")
print(df.info())

print("\nStatistical Summary:")
print(df.describe())

# Plot the closing price over time
plt.figure(figsize=(12, 6))
plt.plot(df.index, df['Close'], label='Closing Price', color='blue')
plt.xlabel("Date")
plt.ylabel("Stock Price")
plt.title("Stock Closing Price Over Time")
plt.legend()
plt.grid(True)
plt.show()

# Moving Averages (Short-term vs Long-term)
df['SMA_50'] = df['Close'].rolling(window=50).mean()
df['SMA_200'] = df['Close'].rolling(window=200).mean()

# Plot Moving Averages
plt.figure(figsize=(12, 6))
plt.plot(df.index, df['Close'], label='Closing Price', color='blue')
plt.plot(df.index, df['SMA_50'], label='50-day SMA', color='red', linestyle='dashed')
plt.plot(df.index, df['SMA_200'], label='200-day SMA', color='green', linestyle='dashed')
plt.xlabel("Date")
plt.ylabel("Stock Price")
plt.title("Stock Price with Moving Averages")
plt.legend()
plt.grid(True)
plt.show()

# Correlation Heatmap
plt.figure(figsize=(8, 6))
sns.heatmap(df.corr(), annot=True, cmap="coolwarm", fmt=".2f")
plt.title("Correlation Matrix")
plt.show()

# Histogram of Stock Prices
plt.figure(figsize=(8, 5))
sns.histplot(df['Close'], bins=50, kde=True, color='blue')
plt.xlabel("Stock Price")
plt.ylabel("Frequency")
plt.title("Distribution of Closing Prices")
plt.show()

# Daily Returns Calculation
df['Daily Return'] = df['Close'].pct_change()

# Plot Daily Returns
plt.figure(figsize=(12, 6))
plt.plot(df.index, df['Daily Return'], label='Daily Return', color='purple')
plt.axhline(0, linestyle='--', color='gray', linewidth=1)
plt.xlabel("Date")
plt.ylabel("Daily Return")
plt.title("Daily Returns Over Time")
plt.legend()
plt.grid(True)
plt.show()

# Display final dataset preview
print("\nUpdated dataset with moving averages and daily returns:")
print(df.head())